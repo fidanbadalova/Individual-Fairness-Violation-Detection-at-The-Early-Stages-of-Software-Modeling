{
 "cells": [
  {
   "cell_type": "code",
   "execution_count": 2,
   "metadata": {},
   "outputs": [],
   "source": [
    "#research lab formulas task\n",
    "import pandas as pd\n",
    "from collections import defaultdict"
   ]
  },
  {
   "cell_type": "code",
   "execution_count": 3,
   "metadata": {},
   "outputs": [
    {
     "data": {
      "text/plain": [
       "{'healthy':                                              formula      result\n",
       " 0  ltl formula1 {(healthy == true -> <>([]Custome...  fullfilled\n",
       " 1  ltl formula2 {!(healthy == true -> <>([]Custom...  fullfilled\n",
       " 2  ltl formula3 {(healthy == true -> <>([]Custome...  fullfilled\n",
       " 3  ltl formula4 {!(healthy == true -> <>([]Custom...    violated,\n",
       " 'income':                                              formula      result\n",
       " 0  ltl formula1 {(income >= 2500) -> <>([]Custome...  fullfilled\n",
       " 1  ltl formula2 {!(income >= 2500) -> <>([]Custom...    violated\n",
       " 2  ltl formula3 {(income >= 2500)-> <>([]Customer...  fullfilled\n",
       " 3  ltl formula4 {!(income >= 2500) -> <>([]Custom...  fullfilled}"
      ]
     },
     "execution_count": 3,
     "metadata": {},
     "output_type": "execute_result"
    }
   ],
   "source": [
    "#read_sheets\n",
    "xl_file = pd.ExcelFile(\"batch2.xlsx\")\n",
    "advantage = 'hasFreeAccount'\n",
    "dfs = {sheet_name: xl_file.parse(sheet_name) \n",
    "          for sheet_name in xl_file.sheet_names}\n",
    "properties = []\n",
    "#preprocessing\n",
    "for df in dfs:\n",
    "    dfs[df] = dfs[df].dropna()\n",
    "    properties.append(df)    \n",
    "dfs"
   ]
  },
  {
   "cell_type": "code",
   "execution_count": 4,
   "metadata": {},
   "outputs": [],
   "source": [
    "def createDictionaries(df):\n",
    "    df_length = int(len(df.index)/2)\n",
    "    pair_dict = {}\n",
    "    for i in range(df_length):\n",
    "        pair = \"p\" + str(i+1);\n",
    "        pair_dict[pair] = \"\";\n",
    "        for index, row in df.iterrows():\n",
    "            if i == 0:\n",
    "                if index == i or index == i + 1:\n",
    "                    pair_dict[\"p\" + str(i+1)] = pair_dict[\"p\" + str(i+1)] + \" \" + (df.iloc[index]['result'])\n",
    "            elif i > 0 or i < df_length:\n",
    "                if index == i + i or index == i + i + 1:\n",
    "                    pair_dict[\"p\" + str(i+1)] = pair_dict[\"p\" + str(i+1)] + \" \" + (df.iloc[index]['result'])\n",
    "    return pair_dict"
   ]
  },
  {
   "cell_type": "code",
   "execution_count": 5,
   "metadata": {},
   "outputs": [
    {
     "data": {
      "text/plain": [
       "{'healthy': {'p1': ' fullfilled fullfilled', 'p2': ' fullfilled violated'},\n",
       " 'income': {'p1': ' fullfilled violated', 'p2': ' fullfilled fullfilled'}}"
      ]
     },
     "execution_count": 5,
     "metadata": {},
     "output_type": "execute_result"
    }
   ],
   "source": [
    "results = {}\n",
    "for df in dfs:\n",
    "    dictionary = createDictionaries(dfs[df])\n",
    "    results[df] = dictionary\n",
    "results"
   ]
  },
  {
   "cell_type": "code",
   "execution_count": 6,
   "metadata": {},
   "outputs": [
    {
     "data": {
      "text/plain": [
       "['healthy', 'income']"
      ]
     },
     "execution_count": 6,
     "metadata": {},
     "output_type": "execute_result"
    }
   ],
   "source": [
    "properties"
   ]
  },
  {
   "cell_type": "code",
   "execution_count": 7,
   "metadata": {},
   "outputs": [
    {
     "data": {
      "text/plain": [
       "{'healthy': ['We have discrimination against healthy'],\n",
       " 'income': ['We have discrimination against income']}"
      ]
     },
     "execution_count": 7,
     "metadata": {},
     "output_type": "execute_result"
    }
   ],
   "source": [
    "final_result = {}\n",
    "for prop in properties:\n",
    "    for result in results:\n",
    "        if prop == result:\n",
    "            property_result= []\n",
    "            for pairs in results[prop]:\n",
    "                value = (results[prop][pairs]).split()\n",
    "                if value[0] == value[1]:\n",
    "                    property_result.append(value[0])\n",
    "                else: \n",
    "#                     property_result.append(\"We have discrimination against\"+ \" \" + prop)\n",
    "                    property_result = [\"We have discrimination against\"+ \" \" + prop]\n",
    "                    break;\n",
    "        final_result[result] = property_result   \n",
    "    \n",
    "final_result"
   ]
  },
  {
   "cell_type": "code",
   "execution_count": 62,
   "metadata": {},
   "outputs": [
    {
     "data": {
      "text/plain": [
       "{'healthy': 'We have discrimination against healthy',\n",
       " 'income': 'We have discrimination against income'}"
      ]
     },
     "execution_count": 62,
     "metadata": {},
     "output_type": "execute_result"
    }
   ],
   "source": [
    "viol = 0;\n",
    "notViol = 0;\n",
    "for result in final_result:\n",
    "    if len(final_result[result]) != 1:\n",
    "        fullfilled_no = final_result[result].count('fullfilled')\n",
    "        violated_no = final_result[result].count('violated')\n",
    "        if fullfilled_no == 1 and violated_no >=1:\n",
    "            final_result[result] = \"No discrimination against\"+ \" \" + result\n",
    "            notViol+=1;\n",
    "        elif fullfilled_no >= 1 and violated_no == 0:\n",
    "            final_result[result] = \"No discrimination against\"+ \" \" + result\n",
    "            notViol+=1;\n",
    "        else:\n",
    "            final_result[result] = \"We have discrimination against\"+ \" \" + result\n",
    "            viol+=1;\n",
    "    else:\n",
    "        final_result[result] = final_result[result][0]\n",
    "        \n",
    "final_result"
   ]
  },
  {
   "cell_type": "code",
   "execution_count": null,
   "metadata": {},
   "outputs": [],
   "source": [
    "\n"
   ]
  },
  {
   "cell_type": "code",
   "execution_count": 70,
   "metadata": {},
   "outputs": [],
   "source": [
    "text_file = open(\"result.html\", \"w\")\n",
    "header = (\"<head><style>body{font-family: sans-serif; margin:20px 10%;display: flex;flex-flow: column;}\"\n",
    "\"h1{color:#515355;font-size: 30px; text-transform: capitalize;width:100%;margin-bottom:0}\"\n",
    "\"table{border: 1px solid; border-collapse: collapse; border-color: black;width: 100%}\"\n",
    "\"table tr{text-align: left!important} td,th{padding: 10px} .no{font-size: 20px;text-transform: capitalize;width:100%}\"\n",
    "\" .result{font-size:20px; font-style:italic;width: 100%;color: #2b475e;margin-bottom:40px} .red{color: red} .green{color:green}\"\n",
    "\".note{font-size:20px; text-align:center} .counters{display:flex;flex-direction:column} \"\n",
    "\".counters p{width:150px;display: flex;justify-content: space-between;align-items:center; font-weight: bold; margin-bottom:0}\"\n",
    "\".counters p span{border: 2px solid;display: inline-block;width: 25px;height: 25px;border-radius: 50%;margin-left: 10px;text-align: center;line-height: 25px;}\"\n",
    "\".top{display: flex;margin-bottom: 30px;justify-content: space-between;align-items: flex-end;}\"\n",
    "\"a{font-style: italic;font-weight: bold;color: darkgoldenrod;}</style></head>\")\n",
    "#logo=\"<img src='IFD2.png' style='width:280px;margin-bottom: 0px;' />\"\n",
    "# counters=\"<div class='counters'><p style='color:darkred'>Violated<span>%s</span></p><p style='color:darkgreen'>Not Violated<span>%s</span></p></div>\"%(viol, notViol)\n",
    "topPart=(\"<div class='top'><img src='IFD3.png' style='width:280px;margin-bottom: 0px;' />\"\n",
    "\"<div class='counters'><p style='color:darkred'>Violated<span>%s</span></p><p style='color:darkgreen'>Not Violated<span>%s</span></p></div></div>\"%(viol, notViol))\n",
    "text_file.write(header)\n",
    "text_file.write(topPart)\n",
    "# text_file.write(counters)\n",
    "num = 0;\n",
    "res = \"\";\n",
    "for df in dfs:\n",
    "    if final_result[df][0] == \"W\":\n",
    "        res = \"<span style='color:darkred'>not presereved</span>\"\n",
    "    else:\n",
    "        res = \"<span style='color:darkgreen'>presereved</span>\"\n",
    "    title = \"<h1>%s</h1>\" %(df) \n",
    "    table_no = \"<p class='no'>Discrimination %s</p>\" %(num + 1)\n",
    "    result = (\"<p class='result'>Based on information given in the table above, individual fairness is <span> %s with repect \"\n",
    "    \"to '%s' when deciding about free account. This means that Free Account is dependent on %s</p>\") %(res, df, df)\n",
    "    table = dfs[df]\n",
    "    html = table.to_html()\n",
    "    text_file.write(title)\n",
    "    text_file.write(table_no)\n",
    "    text_file.write(html)\n",
    "    text_file.write(result)\n",
    "    num = num+1;\n",
    "\n",
    "note=(\"<p class='note'>Developers/Readers who are interested in more details about discrimination, can take a look \"\n",
    "\"<a href='details.html'>here</a></p>\")\n",
    "text_file.write(note)\n",
    "text_file.close()\n",
    "\n",
    "\n"
   ]
  },
  {
   "cell_type": "code",
   "execution_count": null,
   "metadata": {},
   "outputs": [],
   "source": []
  },
  {
   "cell_type": "code",
   "execution_count": null,
   "metadata": {},
   "outputs": [],
   "source": []
  }
 ],
 "metadata": {
  "kernelspec": {
   "display_name": "Python 3",
   "language": "python",
   "name": "python3"
  },
  "language_info": {
   "codemirror_mode": {
    "name": "ipython",
    "version": 3
   },
   "file_extension": ".py",
   "mimetype": "text/x-python",
   "name": "python",
   "nbconvert_exporter": "python",
   "pygments_lexer": "ipython3",
   "version": "3.7.4"
  }
 },
 "nbformat": 4,
 "nbformat_minor": 2
}
